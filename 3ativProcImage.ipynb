{
 "cells": [
  {
   "attachments": {},
   "cell_type": "markdown",
   "metadata": {},
   "source": [
    "<h2><b>Sinal Contínuo</b></h2>"
   ]
  },
  {
   "cell_type": "code",
   "execution_count": null,
   "metadata": {},
   "outputs": [],
   "source": [
    "import numpy as np\n",
    "import matplotlib.pyplot as plt\n",
    "\n",
    "tempo_v = np.linspace(0, 1, 1000)\n",
    "freq_sinal = 20\n",
    "sinal_cont = np.sin(2*np.pi*freq_sinal*tempo_v)"
   ]
  },
  {
   "attachments": {},
   "cell_type": "markdown",
   "metadata": {},
   "source": [
    "<h5><em>Transformada de Fourier</em></h5>"
   ]
  },
  {
   "cell_type": "code",
   "execution_count": null,
   "metadata": {},
   "outputs": [],
   "source": [
    "frequen = np.fft.fftfreq(len(tempo_v), tempo_v[1] - tempo_v[0])"
   ]
  },
  {
   "attachments": {},
   "cell_type": "markdown",
   "metadata": {},
   "source": [
    "<h5><em>Filtragem</b></h5>"
   ]
  },
  {
   "cell_type": "code",
   "execution_count": null,
   "metadata": {},
   "outputs": [],
   "source": [
    "ruido = 0.5 * np.random.randn(len(tempo_v))\n",
    "sinal_com_ruido = sinal_cont + ruido\n",
    "\n",
    "freq_cort = 15\n",
    "transform = np.fft.fft(sinal_com_ruido)\n",
    "transform[frequen > freq_cort] = 0\n",
    "sinal_filter = np.fft.ifft(transform)"
   ]
  },
  {
   "attachments": {},
   "cell_type": "markdown",
   "metadata": {},
   "source": [
    "<h5><em>Análise Espectral</em></h5>"
   ]
  },
  {
   "cell_type": "code",
   "execution_count": null,
   "metadata": {},
   "outputs": [],
   "source": [
    "espectro = np.abs(transform)"
   ]
  },
  {
   "attachments": {},
   "cell_type": "markdown",
   "metadata": {},
   "source": [
    "<h1>PLOT</h1>"
   ]
  },
  {
   "cell_type": "code",
   "execution_count": null,
   "metadata": {},
   "outputs": [],
   "source": [
    "plt.figure(figsize=(8, 6))\n",
    "plt.plot(frequen, espectro)\n",
    "plt.plot(tempo_v, sinal_cont, label=\"Sinal Original\")\n",
    "plt.plot(tempo_v, sinal_com_ruido, 'r', label=\"Sinal com Ruído\")\n",
    "plt.plot(tempo_v, sinal_filter, 'g', label=\"Sinal Filtrado\")\n",
    "plt.legend()\n",
    "plt.xlabel('Frequência (Hz)')\n",
    "plt.ylabel('Magnitude')\n",
    "plt.title('Sinal')\n",
    "plt.grid(True)\n",
    "plt.show()"
   ]
  }
 ],
 "metadata": {
  "language_info": {
   "name": "python"
  },
  "orig_nbformat": 4
 },
 "nbformat": 4,
 "nbformat_minor": 2
}
