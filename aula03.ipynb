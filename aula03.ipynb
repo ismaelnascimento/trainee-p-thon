{
 "cells": [
  {
   "cell_type": "markdown",
   "metadata": {},
   "source": [
    "<h2><b>Exercício 1</b></h2>"
   ]
  },
  {
   "cell_type": "code",
   "execution_count": 2,
   "metadata": {},
   "outputs": [
    {
     "name": "stdout",
     "output_type": "stream",
     "text": [
      "Ana\n"
     ]
    }
   ],
   "source": [
    "name = input('Digite o nome: ')\n",
    "\n",
    "if name.lower()[0] == 'a':\n",
    "   print(name)"
   ]
  },
  {
   "cell_type": "markdown",
   "metadata": {},
   "source": [
    "<h2><b>Exercício 2</b></h2>"
   ]
  },
  {
   "cell_type": "code",
   "execution_count": 7,
   "metadata": {},
   "outputs": [
    {
     "name": "stdout",
     "output_type": "stream",
     "text": [
      "leamsI\n"
     ]
    }
   ],
   "source": [
    "word = input('Digite uma palavra: ')\n",
    "\n",
    "print(''.join(reversed(word)))"
   ]
  },
  {
   "cell_type": "markdown",
   "metadata": {},
   "source": [
    "<h2><b>Exercício 3</b></h2>"
   ]
  },
  {
   "cell_type": "code",
   "execution_count": 23,
   "metadata": {},
   "outputs": [
    {
     "name": "stdout",
     "output_type": "stream",
     "text": [
      "Mr Alncr Crds\n"
     ]
    }
   ],
   "source": [
    "def SemVogal(name):\n",
    "  nomesemvogal = name\n",
    "  \n",
    "  for c in nomesemvogal:\n",
    "    if c in 'aeiou':\n",
    "      nomesemvogal = nomesemvogal.replace(c, '')\n",
    "\n",
    "  return nomesemvogal\n",
    "\n",
    "print(SemVogal('Maria Alencar Cardoso'))"
   ]
  },
  {
   "cell_type": "markdown",
   "metadata": {},
   "source": [
    "<h2><b>Exercício 4</b></h2>"
   ]
  },
  {
   "cell_type": "code",
   "execution_count": 31,
   "metadata": {},
   "outputs": [
    {
     "name": "stdout",
     "output_type": "stream",
     "text": [
      "3\n"
     ]
    }
   ],
   "source": [
    "def contar(number):\n",
    "  somatoria = 0\n",
    "  for n in number:\n",
    "     somatoria += int(n)\n",
    "  return somatoria\n",
    "\n",
    "print(contar('0011001'))"
   ]
  },
  {
   "cell_type": "markdown",
   "metadata": {},
   "source": [
    "<h2><b>Exercício 5</b></h2>"
   ]
  },
  {
   "cell_type": "code",
   "execution_count": 43,
   "metadata": {},
   "outputs": [
    {
     "name": "stdout",
     "output_type": "stream",
     "text": [
      "Eu gosto estudar\n"
     ]
    }
   ],
   "source": [
    "def filter(str, list):\n",
    "    strsplit = str.split() # [Eu, gosto, de, estudar, Python]\n",
    "    listS = ''.join(list).lower() # pythonjavac++de\n",
    "    \n",
    "    for s in strsplit:\n",
    "        if s.lower() in listS:\n",
    "            strsplit.remove(s)\n",
    "    \n",
    "    return ' '.join(strsplit)\n",
    "\n",
    "print(filter('Eu gosto de estudar Python', ['python', 'java', 'c++', 'de']))"
   ]
  }
 ],
 "metadata": {
  "kernelspec": {
   "display_name": ".env",
   "language": "python",
   "name": "python3"
  },
  "language_info": {
   "codemirror_mode": {
    "name": "ipython",
    "version": 3
   },
   "file_extension": ".py",
   "mimetype": "text/x-python",
   "name": "python",
   "nbconvert_exporter": "python",
   "pygments_lexer": "ipython3",
   "version": "3.11.4"
  },
  "orig_nbformat": 4
 },
 "nbformat": 4,
 "nbformat_minor": 2
}
