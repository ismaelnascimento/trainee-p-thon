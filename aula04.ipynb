{
 "cells": [
  {
   "cell_type": "markdown",
   "metadata": {},
   "source": [
    "<h2><b>Exercício 1</b></h2>"
   ]
  },
  {
   "cell_type": "code",
   "execution_count": 3,
   "metadata": {},
   "outputs": [
    {
     "name": "stdout",
     "output_type": "stream",
     "text": [
      "[3, 8, 1, 5, 4]\n",
      "Soma: 21\n"
     ]
    }
   ],
   "source": [
    "list = []\n",
    "num = 0\n",
    "\n",
    "for n in range(5):\n",
    "    num = int(input('Digite um número: '))\n",
    "    list.append(num)\n",
    "\n",
    "soma = 0\n",
    "for n in range(len(list)): \n",
    "    soma += list[n]\n",
    "\n",
    "print(list)\n",
    "print(f'Soma: {soma}')\n"
   ]
  },
  {
   "cell_type": "markdown",
   "metadata": {},
   "source": [
    "<h2><b>Exercício 2</b></h2>"
   ]
  },
  {
   "cell_type": "code",
   "execution_count": 8,
   "metadata": {},
   "outputs": [
    {
     "name": "stdout",
     "output_type": "stream",
     "text": [
      "{'mael': 7, 'jenni': 8, 'gio': 10}\n",
      "Media das notas: 8.333333333333334\n"
     ]
    }
   ],
   "source": [
    "alunos = {}\n",
    "\n",
    "for n in range(3):\n",
    "    nome_aluno = input('Digite o nome do aluno: ')\n",
    "    nota_aluno = int(input(f'Digite a nota do {nome_aluno}: '))\n",
    "    alunos[nome_aluno] = nota_aluno\n",
    "\n",
    "soma = 0\n",
    "media = 0\n",
    "for n in alunos: \n",
    "   soma += alunos[n]\n",
    "\n",
    "media = soma / len(alunos)\n",
    "\n",
    "print(alunos)\n",
    "print(f'Media das notas: {media}')"
   ]
  },
  {
   "cell_type": "markdown",
   "metadata": {},
   "source": [
    "<h2><b>Exercício 3</b></h2>"
   ]
  },
  {
   "cell_type": "code",
   "execution_count": 9,
   "metadata": {},
   "outputs": [
    {
     "name": "stdout",
     "output_type": "stream",
     "text": [
      "---- União ----\n",
      "{'Açude', 'Praia', 'Escolas', 'IFCE', 'Supermercado'}\n",
      "---------------\n",
      "---- Interseção ----\n",
      "{'Escolas', 'Supermercado'}\n",
      "--------------------\n",
      "---- Diferença ----\n",
      "{'Praia', 'IFCE'}\n",
      "-------------------\n",
      "---- Diferença Simétrica ----\n",
      "{'Açude', 'Praia', 'IFCE'}\n",
      "-----------------------------\n"
     ]
    }
   ],
   "source": [
    "fotaleza = {\"Supermercado\", \"IFCE\", \"Escolas\", \"Praia\"}\n",
    "pacajus = {\"Escolas\", \"Supermercado\", \"Açude\"}\n",
    "\n",
    "# União\n",
    "print(\"---- União ----\")\n",
    "print(fotaleza | pacajus)\n",
    "print(\"---------------\")\n",
    "\n",
    "# Interseção\n",
    "print(\"---- Interseção ----\")\n",
    "print(fotaleza & pacajus)\n",
    "print(\"--------------------\")\n",
    "\n",
    "# Diferença\n",
    "print(\"---- Diferença ----\")\n",
    "print(fotaleza - pacajus)\n",
    "print(\"-------------------\")\n",
    "\n",
    "# Diferença Simétrica\n",
    "print(\"---- Diferença Simétrica ----\")\n",
    "print(fotaleza ^ pacajus)\n",
    "print(\"-----------------------------\")"
   ]
  },
  {
   "cell_type": "markdown",
   "metadata": {},
   "source": [
    "<h2><b>Exercício 4</b></h2>"
   ]
  },
  {
   "cell_type": "code",
   "execution_count": 19,
   "metadata": {},
   "outputs": [
    {
     "name": "stdout",
     "output_type": "stream",
     "text": [
      "Soma total: 22\n"
     ]
    }
   ],
   "source": [
    "import numpy as np\n",
    "\n",
    "matriz = np.array([[3, 4, 1],\n",
    "                   [3, 1, 5],]) \n",
    "\n",
    "soma = 0                  \n",
    "for n in range(len(matriz)):\n",
    "   for e in range(len(matriz[n])):\n",
    "      soma += matriz[n][e]\n",
    "\n",
    "print(f'Soma total: {soma}')"
   ]
  }
 ],
 "metadata": {
  "kernelspec": {
   "display_name": ".env",
   "language": "python",
   "name": "python3"
  },
  "language_info": {
   "codemirror_mode": {
    "name": "ipython",
    "version": 3
   },
   "file_extension": ".py",
   "mimetype": "text/x-python",
   "name": "python",
   "nbconvert_exporter": "python",
   "pygments_lexer": "ipython3",
   "version": "3.11.4"
  },
  "orig_nbformat": 4
 },
 "nbformat": 4,
 "nbformat_minor": 2
}
