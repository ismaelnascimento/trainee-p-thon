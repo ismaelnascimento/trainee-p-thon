{
 "cells": [
  {
   "cell_type": "markdown",
   "metadata": {},
   "source": [
    "<h2><b>Exercício 1</b></h2>"
   ]
  },
  {
   "cell_type": "code",
   "execution_count": 1,
   "metadata": {},
   "outputs": [
    {
     "ename": "ValueError",
     "evalue": "invalid literal for int() with base 10: '[0, 5, 8]'",
     "output_type": "error",
     "traceback": [
      "\u001b[1;31m---------------------------------------------------------------------------\u001b[0m",
      "\u001b[1;31mValueError\u001b[0m                                Traceback (most recent call last)",
      "Cell \u001b[1;32mIn[1], line 1\u001b[0m\n\u001b[1;32m----> 1\u001b[0m number \u001b[39m=\u001b[39m \u001b[39mint\u001b[39;49m(\u001b[39minput\u001b[39;49m(\u001b[39m'\u001b[39;49m\u001b[39mDigite um número: \u001b[39;49m\u001b[39m'\u001b[39;49m))\n\u001b[0;32m      3\u001b[0m \u001b[39mif\u001b[39;00m number \u001b[39m%\u001b[39m \u001b[39m2\u001b[39m:\n\u001b[0;32m      4\u001b[0m     \u001b[39mprint\u001b[39m(\u001b[39mf\u001b[39m\u001b[39m'\u001b[39m\u001b[39m{\u001b[39;00mnumber\u001b[39m}\u001b[39;00m\u001b[39m é um número ímpar\u001b[39m\u001b[39m'\u001b[39m)\n",
      "\u001b[1;31mValueError\u001b[0m: invalid literal for int() with base 10: '[0, 5, 8]'"
     ]
    }
   ],
   "source": [
    "number = int(input('Digite um número: '))\n",
    "\n",
    "if number % 2:\n",
    "    print(f'{number} é um número ímpar')\n",
    "else:\n",
    "    print(f'{number} é um número par')"
   ]
  },
  {
   "cell_type": "markdown",
   "metadata": {},
   "source": [
    "<h2><b>Exercício 2</b></h2>"
   ]
  },
  {
   "cell_type": "code",
   "execution_count": null,
   "metadata": {},
   "outputs": [
    {
     "name": "stdout",
     "output_type": "stream",
     "text": [
      "Você é menor de idade\n"
     ]
    }
   ],
   "source": [
    "year = int(input('Digite sua idade: '))\n",
    "\n",
    "if year >= 18:\n",
    "    print('Você é maior de idade')\n",
    "else:\n",
    "    print('Você é menor de idade')"
   ]
  },
  {
   "cell_type": "markdown",
   "metadata": {},
   "source": [
    "<h2><b>Exercício 3</b></h2>"
   ]
  },
  {
   "cell_type": "code",
   "execution_count": null,
   "metadata": {},
   "outputs": [
    {
     "name": "stdout",
     "output_type": "stream",
     "text": [
      "1\n",
      "2\n",
      "3\n",
      "4\n",
      "5\n",
      "6\n",
      "7\n",
      "8\n",
      "9\n",
      "10\n"
     ]
    }
   ],
   "source": [
    "for i in range(10):\n",
    "  print(i + 1)"
   ]
  },
  {
   "cell_type": "markdown",
   "metadata": {},
   "source": [
    "<h2><b>Exercício 4</b></h2>"
   ]
  },
  {
   "cell_type": "code",
   "execution_count": null,
   "metadata": {},
   "outputs": [],
   "source": [
    "while True:\n",
    "    nota = int(input('Informe um nota entre 0 e 10'))\n",
    "\n",
    "    if nota >= 0 and nota <= 10:\n",
    "        break\n",
    "    else:\n",
    "        print('Informe uma nota entre 0 e 10!')"
   ]
  },
  {
   "cell_type": "markdown",
   "metadata": {},
   "source": [
    "<h2><b>Exercício 5</b></h2>"
   ]
  },
  {
   "cell_type": "code",
   "execution_count": 21,
   "metadata": {},
   "outputs": [
    {
     "name": "stdout",
     "output_type": "stream",
     "text": [
      "Maior: 9\n",
      "Menor: 2\n"
     ]
    }
   ],
   "source": [
    "list = eval(input('Forneça uma lista com 3 números: '))\n",
    "\n",
    "print(f'Maior: {max(list)}')\n",
    "print(f'Menor: {min(list)}')"
   ]
  },
  {
   "cell_type": "markdown",
   "metadata": {},
   "source": [
    "<h2><b>Exercício 5</b></h2>"
   ]
  },
  {
   "cell_type": "code",
   "execution_count": 24,
   "metadata": {},
   "outputs": [
    {
     "name": "stdout",
     "output_type": "stream",
     "text": [
      "Seu IMC é: 19.362472659471475\n",
      "Nomal\n"
     ]
    }
   ],
   "source": [
    "back = False\n",
    "\n",
    "while not back:\n",
    "    peso = float(input('Digite o peso: '))\n",
    "    altura = float(input('Digite a altura: '))\n",
    "\n",
    "    imc = peso / altura**2\n",
    "\n",
    "    print(f\"Seu IMC é: {imc}\")\n",
    "\n",
    "    if imc < 18.5:\n",
    "        print('Abaixo do peso')\n",
    "        sair = input('Deseja sair (S/N)? ')\n",
    "        if sair == 'S':\n",
    "          back = True\n",
    "        else:\n",
    "          back = False\n",
    "    elif imc < 25:\n",
    "        print('Nomal')\n",
    "        sair = input('Deseja sair (S/N)? ')\n",
    "        if sair == 'S':\n",
    "          back = True\n",
    "        else:\n",
    "          back = False\n",
    "    elif imc < 30: \n",
    "        print('Acima do peso')\n",
    "        sair = input('Deseja sair (S/N)? ')\n",
    "        if sair == 'S':\n",
    "          back = True\n",
    "        else:\n",
    "          back = False\n",
    "\n",
    "    "
   ]
  }
 ],
 "metadata": {
  "kernelspec": {
   "display_name": ".env",
   "language": "python",
   "name": "python3"
  },
  "language_info": {
   "codemirror_mode": {
    "name": "ipython",
    "version": 3
   },
   "file_extension": ".py",
   "mimetype": "text/x-python",
   "name": "python",
   "nbconvert_exporter": "python",
   "pygments_lexer": "ipython3",
   "version": "3.11.4"
  },
  "orig_nbformat": 4
 },
 "nbformat": 4,
 "nbformat_minor": 2
}
